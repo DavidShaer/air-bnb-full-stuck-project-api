{
 "cells": [
  {
   "cell_type": "code",
   "execution_count": 1,
   "metadata": {},
   "outputs": [],
   "source": [
    "import json"
   ]
  },
  {
   "cell_type": "code",
   "execution_count": 2,
   "metadata": {},
   "outputs": [
    {
     "data": {
      "text/plain": [
       "{'_id': 's101',\n",
       " 'name': 'Ribeira Charming Duplex',\n",
       " 'type': 'House',\n",
       " 'imgUrls': ['https://plus.unsplash.com/premium_photo-1661962590522-1b700c5bb5e3?w=600&auto=format&fit=crop&q=60&ixlib=rb-4.0.3&ixid=M3wxMjA3fDB8MHxzZWFyY2h8NXx8cml2aWVyYXxlbnwwfHwwfHx8MA%3D%3D',\n",
       "  'otherImg.jpg'],\n",
       " 'price': 80,\n",
       " 'summary': 'Fantastic duplex apartment...',\n",
       " 'capacity': 8,\n",
       " 'amenities': ['TV',\n",
       "  'Wifi',\n",
       "  'Kitchen',\n",
       "  'Smoking allowed',\n",
       "  'Pets allowed',\n",
       "  'Cooking basics'],\n",
       " 'labels': ['Top of the world', 'Trending', 'Play', 'Tropical'],\n",
       " 'host': {'_id': 'u101',\n",
       "  'fullname': 'Davit Pok',\n",
       "  'imgUrl': 'https://a0.muscache.com/im/pictures/fab79f25-2e10-4f0f-9711-663cb69dc7d8.jpg?aki_policy=profile_small'},\n",
       " 'loc': {'country': 'Portugal',\n",
       "  'countryCode': 'PT',\n",
       "  'city': 'Lisbon',\n",
       "  'address': '17 Kombo st',\n",
       "  'lat': -8.61308,\n",
       "  'lng': 41.1413},\n",
       " 'reviews': [{'id': 'madeId',\n",
       "   'txt': 'Very helpful hosts. Cooked traditional...',\n",
       "   'rate': 4,\n",
       "   'by': {'_id': 'u102', 'fullname': 'user2', 'imgUrl': '/img/img2.jpg'}}],\n",
       " 'likedByUsers': ['mini-user']}"
      ]
     },
     "execution_count": 2,
     "metadata": {},
     "output_type": "execute_result"
    }
   ],
   "source": [
    "with open('./stay_database.json', mode='r') as file:\n",
    "    data = json.load(file)\n",
    "    \n",
    "data[0]"
   ]
  },
  {
   "cell_type": "code",
   "execution_count": null,
   "metadata": {},
   "outputs": [],
   "source": []
  },
  {
   "cell_type": "code",
   "execution_count": 6,
   "metadata": {},
   "outputs": [
    {
     "data": {
      "text/plain": [
       "['Portugal',\n",
       " 'United States',\n",
       " 'Canada',\n",
       " 'Spain',\n",
       " 'Turkey',\n",
       " 'Hong Kong',\n",
       " 'Australia',\n",
       " 'Brazil']"
      ]
     },
     "execution_count": 6,
     "metadata": {},
     "output_type": "execute_result"
    }
   ],
   "source": [
    "countries = []\n",
    "for sample in data:\n",
    "    country = sample['loc']['country']\n",
    "    if country not in countries:\n",
    "        countries.append(country)\n",
    "\n",
    "countries"
   ]
  },
  {
   "cell_type": "code",
   "execution_count": 7,
   "metadata": {},
   "outputs": [],
   "source": [
    "country_category_map = {\n",
    "    \"Portugal\": \"Flexible\",\n",
    "    \"United States\": \"United States\",\n",
    "    \"Canada\": \"Flexible\",\n",
    "    \"Spain\": \"Flexible\",\n",
    "    \"Turkey\": \"Middle East\",\n",
    "    \"Hong Kong\": \"Southeast Asia\",\n",
    "    \"Australia\": \"Flexible\",\n",
    "    \"Brazil\": \"Flexible\"\n",
    "}\n"
   ]
  },
  {
   "cell_type": "code",
   "execution_count": 8,
   "metadata": {},
   "outputs": [],
   "source": [
    "new_data = data.copy()"
   ]
  },
  {
   "cell_type": "code",
   "execution_count": 9,
   "metadata": {},
   "outputs": [
    {
     "data": {
      "text/plain": [
       "{'_id': 's101',\n",
       " 'name': 'Ribeira Charming Duplex',\n",
       " 'type': 'House',\n",
       " 'imgUrls': ['https://plus.unsplash.com/premium_photo-1661962590522-1b700c5bb5e3?w=600&auto=format&fit=crop&q=60&ixlib=rb-4.0.3&ixid=M3wxMjA3fDB8MHxzZWFyY2h8NXx8cml2aWVyYXxlbnwwfHwwfHx8MA%3D%3D',\n",
       "  'otherImg.jpg'],\n",
       " 'price': 80,\n",
       " 'summary': 'Fantastic duplex apartment...',\n",
       " 'capacity': 8,\n",
       " 'amenities': ['TV',\n",
       "  'Wifi',\n",
       "  'Kitchen',\n",
       "  'Smoking allowed',\n",
       "  'Pets allowed',\n",
       "  'Cooking basics'],\n",
       " 'labels': ['Top of the world', 'Trending', 'Play', 'Tropical'],\n",
       " 'host': {'_id': 'u101',\n",
       "  'fullname': 'Davit Pok',\n",
       "  'imgUrl': 'https://a0.muscache.com/im/pictures/fab79f25-2e10-4f0f-9711-663cb69dc7d8.jpg?aki_policy=profile_small'},\n",
       " 'loc': {'country': 'Portugal',\n",
       "  'countryCode': 'PT',\n",
       "  'city': 'Lisbon',\n",
       "  'address': '17 Kombo st',\n",
       "  'lat': -8.61308,\n",
       "  'lng': 41.1413,\n",
       "  'region': 'Flexible'},\n",
       " 'reviews': [{'id': 'madeId',\n",
       "   'txt': 'Very helpful hosts. Cooked traditional...',\n",
       "   'rate': 4,\n",
       "   'by': {'_id': 'u102', 'fullname': 'user2', 'imgUrl': '/img/img2.jpg'}}],\n",
       " 'likedByUsers': ['mini-user']}"
      ]
     },
     "execution_count": 9,
     "metadata": {},
     "output_type": "execute_result"
    }
   ],
   "source": [
    "# create new data\n",
    "for sample in new_data:\n",
    "    sample['loc']['region'] = country_category_map[sample['loc']['country']]\n",
    "\n",
    "new_data[0]\n",
    "    "
   ]
  },
  {
   "cell_type": "code",
   "execution_count": 13,
   "metadata": {},
   "outputs": [],
   "source": [
    "with open(\"./stay_database_with_region.json\", \"w\") as json_file:\n",
    "    json.dump(new_data, json_file, indent=4)"
   ]
  },
  {
   "cell_type": "code",
   "execution_count": 12,
   "metadata": {},
   "outputs": [
    {
     "data": {
      "text/plain": [
       "dict"
      ]
     },
     "execution_count": 12,
     "metadata": {},
     "output_type": "execute_result"
    }
   ],
   "source": []
  },
  {
   "cell_type": "code",
   "execution_count": null,
   "metadata": {},
   "outputs": [],
   "source": []
  }
 ],
 "metadata": {
  "kernelspec": {
   "display_name": "Python 3",
   "language": "python",
   "name": "python3"
  },
  "language_info": {
   "codemirror_mode": {
    "name": "ipython",
    "version": 3
   },
   "file_extension": ".py",
   "mimetype": "text/x-python",
   "name": "python",
   "nbconvert_exporter": "python",
   "pygments_lexer": "ipython3",
   "version": "3.7.3"
  }
 },
 "nbformat": 4,
 "nbformat_minor": 2
}
