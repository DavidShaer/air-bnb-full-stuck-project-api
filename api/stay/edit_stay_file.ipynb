{
 "cells": [
  {
   "cell_type": "code",
   "execution_count": 1,
   "metadata": {},
   "outputs": [],
   "source": [
    "import json\n"
   ]
  },
  {
   "cell_type": "code",
   "execution_count": 2,
   "metadata": {},
   "outputs": [
    {
     "data": {
      "text/plain": [
       "{'_id': 's101',\n",
       " 'name': 'Ribeira Charming Duplex',\n",
       " 'type': 'House',\n",
       " 'imgUrls': ['https://plus.unsplash.com/premium_photo-1661962590522-1b700c5bb5e3?w=600&auto=format&fit=crop&q=60&ixlib=rb-4.0.3&ixid=M3wxMjA3fDB8MHxzZWFyY2h8NXx8cml2aWVyYXxlbnwwfHwwfHx8MA%3D%3D',\n",
       "  'otherImg.jpg'],\n",
       " 'price': 80,\n",
       " 'summary': 'Fantastic duplex apartment...',\n",
       " 'capacity': 8,\n",
       " 'amenities': ['TV',\n",
       "  'Wifi',\n",
       "  'Kitchen',\n",
       "  'Smoking allowed',\n",
       "  'Pets allowed',\n",
       "  'Cooking basics'],\n",
       " 'labels': ['Top of the world', 'Trending', 'Play', 'Tropical'],\n",
       " 'host': {'_id': 'u101',\n",
       "  'fullname': 'Davit Pok',\n",
       "  'imgUrl': 'https://a0.muscache.com/im/pictures/fab79f25-2e10-4f0f-9711-663cb69dc7d8.jpg?aki_policy=profile_small'},\n",
       " 'loc': {'country': 'Portugal',\n",
       "  'countryCode': 'PT',\n",
       "  'city': 'Lisbon',\n",
       "  'address': '17 Kombo st',\n",
       "  'lat': -8.61308,\n",
       "  'lng': 41.1413},\n",
       " 'reviews': [{'id': 'madeId',\n",
       "   'txt': 'Very helpful hosts. Cooked traditional...',\n",
       "   'rate': 4,\n",
       "   'by': {'_id': 'u102', 'fullname': 'user2', 'imgUrl': '/img/img2.jpg'}}],\n",
       " 'likedByUsers': ['mini-user']}"
      ]
     },
     "execution_count": 2,
     "metadata": {},
     "output_type": "execute_result"
    }
   ],
   "source": [
    "with open('./stay_database.json', mode='r') as file:\n",
    "    data = json.load(file)\n",
    "    \n",
    "data[0]"
   ]
  },
  {
   "cell_type": "code",
   "execution_count": null,
   "metadata": {},
   "outputs": [],
   "source": []
  },
  {
   "cell_type": "code",
   "execution_count": 6,
   "metadata": {},
   "outputs": [
    {
     "data": {
      "text/plain": [
       "['Portugal',\n",
       " 'United States',\n",
       " 'Canada',\n",
       " 'Spain',\n",
       " 'Turkey',\n",
       " 'Hong Kong',\n",
       " 'Australia',\n",
       " 'Brazil']"
      ]
     },
     "execution_count": 6,
     "metadata": {},
     "output_type": "execute_result"
    }
   ],
   "source": [
    "countries = []\n",
    "for sample in data:\n",
    "    country = sample['loc']['country']\n",
    "    if country not in countries:\n",
    "        countries.append(country)\n",
    "\n",
    "countries"
   ]
  },
  {
   "cell_type": "code",
   "execution_count": 7,
   "metadata": {},
   "outputs": [],
   "source": [
    "country_category_map = {\n",
    "    \"Portugal\": \"Flexible\",\n",
    "    \"United States\": \"United States\",\n",
    "    \"Canada\": \"Flexible\",\n",
    "    \"Spain\": \"Flexible\",\n",
    "    \"Turkey\": \"Middle East\",\n",
    "    \"Hong Kong\": \"Southeast Asia\",\n",
    "    \"Australia\": \"Flexible\",\n",
    "    \"Brazil\": \"Flexible\"\n",
    "}\n"
   ]
  },
  {
   "cell_type": "code",
   "execution_count": 8,
   "metadata": {},
   "outputs": [],
   "source": [
    "new_data = data.copy()"
   ]
  },
  {
   "cell_type": "code",
   "execution_count": 9,
   "metadata": {},
   "outputs": [
    {
     "data": {
      "text/plain": [
       "{'_id': 's101',\n",
       " 'name': 'Ribeira Charming Duplex',\n",
       " 'type': 'House',\n",
       " 'imgUrls': ['https://plus.unsplash.com/premium_photo-1661962590522-1b700c5bb5e3?w=600&auto=format&fit=crop&q=60&ixlib=rb-4.0.3&ixid=M3wxMjA3fDB8MHxzZWFyY2h8NXx8cml2aWVyYXxlbnwwfHwwfHx8MA%3D%3D',\n",
       "  'otherImg.jpg'],\n",
       " 'price': 80,\n",
       " 'summary': 'Fantastic duplex apartment...',\n",
       " 'capacity': 8,\n",
       " 'amenities': ['TV',\n",
       "  'Wifi',\n",
       "  'Kitchen',\n",
       "  'Smoking allowed',\n",
       "  'Pets allowed',\n",
       "  'Cooking basics'],\n",
       " 'labels': ['Top of the world', 'Trending', 'Play', 'Tropical'],\n",
       " 'host': {'_id': 'u101',\n",
       "  'fullname': 'Davit Pok',\n",
       "  'imgUrl': 'https://a0.muscache.com/im/pictures/fab79f25-2e10-4f0f-9711-663cb69dc7d8.jpg?aki_policy=profile_small'},\n",
       " 'loc': {'country': 'Portugal',\n",
       "  'countryCode': 'PT',\n",
       "  'city': 'Lisbon',\n",
       "  'address': '17 Kombo st',\n",
       "  'lat': -8.61308,\n",
       "  'lng': 41.1413,\n",
       "  'region': 'Flexible'},\n",
       " 'reviews': [{'id': 'madeId',\n",
       "   'txt': 'Very helpful hosts. Cooked traditional...',\n",
       "   'rate': 4,\n",
       "   'by': {'_id': 'u102', 'fullname': 'user2', 'imgUrl': '/img/img2.jpg'}}],\n",
       " 'likedByUsers': ['mini-user']}"
      ]
     },
     "execution_count": 9,
     "metadata": {},
     "output_type": "execute_result"
    }
   ],
   "source": [
    "# create new data\n",
    "for sample in new_data:\n",
    "    sample['loc']['region'] = country_category_map[sample['loc']['country']]\n",
    "\n",
    "new_data[0]\n",
    "    "
   ]
  },
  {
   "cell_type": "code",
   "execution_count": 13,
   "metadata": {},
   "outputs": [],
   "source": [
    "with open(\"./stay_database_with_region.json\", \"w\") as json_file:\n",
    "    json.dump(new_data, json_file, indent=4)"
   ]
  },
  {
   "cell_type": "code",
   "execution_count": null,
   "metadata": {},
   "outputs": [],
   "source": []
  },
  {
   "cell_type": "markdown",
   "metadata": {},
   "source": [
    "## Add date"
   ]
  },
  {
   "cell_type": "code",
   "execution_count": 13,
   "metadata": {},
   "outputs": [
    {
     "data": {
      "text/plain": [
       "{'_id': 's101',\n",
       " 'name': 'Ribeira Charming Duplex',\n",
       " 'type': 'House',\n",
       " 'imgUrls': ['https://plus.unsplash.com/premium_photo-1661962590522-1b700c5bb5e3?w=600&auto=format&fit=crop&q=60&ixlib=rb-4.0.3&ixid=M3wxMjA3fDB8MHxzZWFyY2h8NXx8cml2aWVyYXxlbnwwfHwwfHx8MA%3D%3D',\n",
       "  'otherImg.jpg'],\n",
       " 'price': 80,\n",
       " 'summary': 'Fantastic duplex apartment...',\n",
       " 'capacity': 8,\n",
       " 'amenities': ['TV',\n",
       "  'Wifi',\n",
       "  'Kitchen',\n",
       "  'Smoking allowed',\n",
       "  'Pets allowed',\n",
       "  'Cooking basics'],\n",
       " 'labels': ['Top of the world', 'Trending', 'Play', 'Tropical'],\n",
       " 'host': {'_id': 'u101',\n",
       "  'fullname': 'Davit Pok',\n",
       "  'imgUrl': 'https://a0.muscache.com/im/pictures/fab79f25-2e10-4f0f-9711-663cb69dc7d8.jpg?aki_policy=profile_small'},\n",
       " 'loc': {'country': 'Portugal',\n",
       "  'countryCode': 'PT',\n",
       "  'city': 'Lisbon',\n",
       "  'address': '17 Kombo st',\n",
       "  'lat': -8.61308,\n",
       "  'lng': 41.1413,\n",
       "  'region': 'Flexible'},\n",
       " 'reviews': [{'id': 'madeId',\n",
       "   'txt': 'Very helpful hosts. Cooked traditional...',\n",
       "   'rate': 4,\n",
       "   'by': {'_id': 'u102', 'fullname': 'user2', 'imgUrl': '/img/img2.jpg'}}],\n",
       " 'likedByUsers': ['mini-user']}"
      ]
     },
     "execution_count": 13,
     "metadata": {},
     "output_type": "execute_result"
    }
   ],
   "source": [
    "import json\n",
    "from datetime import datetime, timedelta\n",
    "import numpy as np\n",
    "\n",
    "with open('./stay_database_with_region.json', mode='r') as file:\n",
    "    data = json.load(file)\n",
    "    \n",
    "data[0]"
   ]
  },
  {
   "cell_type": "code",
   "execution_count": 14,
   "metadata": {},
   "outputs": [
    {
     "data": {
      "text/plain": [
       "{'_id': 's101',\n",
       " 'name': 'Ribeira Charming Duplex',\n",
       " 'type': 'House',\n",
       " 'imgUrls': ['https://plus.unsplash.com/premium_photo-1661962590522-1b700c5bb5e3?w=600&auto=format&fit=crop&q=60&ixlib=rb-4.0.3&ixid=M3wxMjA3fDB8MHxzZWFyY2h8NXx8cml2aWVyYXxlbnwwfHwwfHx8MA%3D%3D',\n",
       "  'otherImg.jpg'],\n",
       " 'price': 80,\n",
       " 'summary': 'Fantastic duplex apartment...',\n",
       " 'capacity': 8,\n",
       " 'amenities': ['TV',\n",
       "  'Wifi',\n",
       "  'Kitchen',\n",
       "  'Smoking allowed',\n",
       "  'Pets allowed',\n",
       "  'Cooking basics'],\n",
       " 'labels': ['Top of the world', 'Trending', 'Play', 'Tropical'],\n",
       " 'host': {'_id': 'u101',\n",
       "  'fullname': 'Davit Pok',\n",
       "  'imgUrl': 'https://a0.muscache.com/im/pictures/fab79f25-2e10-4f0f-9711-663cb69dc7d8.jpg?aki_policy=profile_small'},\n",
       " 'loc': {'country': 'Portugal',\n",
       "  'countryCode': 'PT',\n",
       "  'city': 'Lisbon',\n",
       "  'address': '17 Kombo st',\n",
       "  'lat': -8.61308,\n",
       "  'lng': 41.1413,\n",
       "  'region': 'Flexible'},\n",
       " 'reviews': [{'id': 'madeId',\n",
       "   'txt': 'Very helpful hosts. Cooked traditional...',\n",
       "   'rate': 4,\n",
       "   'by': {'_id': 'u102', 'fullname': 'user2', 'imgUrl': '/img/img2.jpg'}}],\n",
       " 'likedByUsers': ['mini-user'],\n",
       " 'date': '2025-01-15T21:39:34.6517Z'}"
      ]
     },
     "execution_count": 14,
     "metadata": {},
     "output_type": "execute_result"
    }
   ],
   "source": [
    "new_data = data.copy()\n",
    "\n",
    "for sample in new_data:\n",
    "    # Number of days from now\n",
    "    x_days = np.random.randint(0, 60)\n",
    "    # Get current date and time\n",
    "    current_date = datetime.now()\n",
    "    # Calculate the date X days from now\n",
    "    future_date = current_date + timedelta(days=x_days)\n",
    "    # Format the date (optional, ISO format example)\n",
    "    formatted_date = future_date.strftime(\"%Y-%m-%dT%H:%M:%S.%fZ\")[:-3] + \"Z\"\n",
    "    sample['date'] = formatted_date\n",
    "    \n",
    "new_data[0]"
   ]
  },
  {
   "cell_type": "code",
   "execution_count": 17,
   "metadata": {},
   "outputs": [
    {
     "data": {
      "text/plain": [
       "dict"
      ]
     },
     "execution_count": 17,
     "metadata": {},
     "output_type": "execute_result"
    }
   ],
   "source": [
    "type(sample)"
   ]
  },
  {
   "cell_type": "markdown",
   "metadata": {},
   "source": [
    "## Add icons"
   ]
  },
  {
   "cell_type": "code",
   "execution_count": 35,
   "metadata": {},
   "outputs": [
    {
     "data": {
      "text/plain": [
       "'riads'"
      ]
     },
     "execution_count": 35,
     "metadata": {},
     "output_type": "execute_result"
    }
   ],
   "source": [
    "labels_paths = '/Users/davidshaer/Desktop/David_documents_etc/full_stuck_coding_academy/practices/5_project/air-bnb-full-stuck-project/src/assets/images'\n",
    "import os\n",
    "labels = [x.split('.jpg')[0] for x in os.listdir(labels_paths)]\n"
   ]
  },
  {
   "cell_type": "code",
   "execution_count": 37,
   "metadata": {},
   "outputs": [
    {
     "data": {
      "text/plain": [
       "{'_id': '622f337b75c7d36e498aabb9',\n",
       " 'name': 'Wan Chai Fully Furnished Studio',\n",
       " 'type': 'Beachfront',\n",
       " 'imgUrls': ['http://res.cloudinary.com/dmtlr2viw/image/upload/v1663436315/nyglbkkyaednuygn6eik.jpg',\n",
       "  'http://res.cloudinary.com/dmtlr2viw/image/upload/v1663436380/ez5caladc00mgsssl6ws.jpg',\n",
       "  'http://res.cloudinary.com/dmtlr2viw/image/upload/v1663437282/qy0p7yyaukasripzwc7w.jpg',\n",
       "  'http://res.cloudinary.com/dmtlr2viw/image/upload/v1663436546/ooe1vhteuu02af7ny3ex.jpg',\n",
       "  'http://res.cloudinary.com/dmtlr2viw/image/upload/v1663436582/vv0y7twjl7zcj9g71sjf.jpg'],\n",
       " 'price': 322,\n",
       " 'summary': 'Fully Furnished Studio located in the the center of Wan Chai area. 5 minutes walking distance to both Wan Chai and Causeway Bay MTR station. Easy access to Hong Kong Exhibition Center, Times Square, and Sogo. Perfect for bachelor with Bars/Restaurants nearby the Lockhart/Jerreries Road. Building with elevator and 24/7 security guard. Small buy cosy studio with TV, private bathroom, kitchen air-conditioning and a working desk. Free Wifi access. 7-11 and laundry shop right next to the entrance.',\n",
       " 'capacity': 1,\n",
       " 'amenities': ['TV',\n",
       "  'Cable TV',\n",
       "  'Wifi',\n",
       "  'Air conditioning',\n",
       "  'Kitchen',\n",
       "  'Elevator',\n",
       "  'Essentials',\n",
       "  'Shampoo',\n",
       "  'Lock on bedroom door',\n",
       "  'Hangers',\n",
       "  'Hair dryer',\n",
       "  'Laptop friendly workspace',\n",
       "  'translation missing: en.hosting_amenity_49',\n",
       "  'translation missing: en.hosting_amenity_50',\n",
       "  'Hot water',\n",
       "  'Refrigerator',\n",
       "  'Dishes and silverware',\n",
       "  'Cooking basics',\n",
       "  'Stove',\n",
       "  'Long term stays allowed',\n",
       "  'Wide hallway clearance',\n",
       "  'Step-free access',\n",
       "  'Wide doorway',\n",
       "  'Flat path to front door',\n",
       "  'Well-lit path to entrance',\n",
       "  'Step-free access',\n",
       "  'Wide doorway',\n",
       "  'Accessible-height bed',\n",
       "  'Wide doorway',\n",
       "  'Accessible-height toilet',\n",
       "  'Other',\n",
       "  'Roll-in shower'],\n",
       " 'bathrooms': 1,\n",
       " 'bedrooms': 1,\n",
       " 'roomType': 'Private room',\n",
       " 'host': {'_id': '622f3404e36c59e6164fb45e',\n",
       "  'fullname': 'Stephen',\n",
       "  'location': 'HK',\n",
       "  'about': '',\n",
       "  'responseTime': 'within an hour',\n",
       "  'thumbnailUrl': 'https://a0.muscache.com/im/pictures/user/1319daff-2c0e-40ab-bab1-ff058f46582a.jpg?aki_policy=profile_small',\n",
       "  'pictureUrl': 'https://a0.muscache.com/im/pictures/user/1319daff-2c0e-40ab-bab1-ff058f46582a.jpg?aki_policy=profile_x_medium',\n",
       "  'isSuperhost': False,\n",
       "  'id': '93240174'},\n",
       " 'loc': {'country': 'Hong Kong',\n",
       "  'countryCode': 'HK',\n",
       "  'city': 'Hong Kong',\n",
       "  'address': 'Hong Kong, Hong Kong Island, Hong Kong',\n",
       "  'lat': 114.17694,\n",
       "  'lan': 22.27757,\n",
       "  'region': 'Southeast Asia'},\n",
       " 'reviews': [{'at': '2016-10-11T04:00:00.000Z',\n",
       "   'by': {'_id': '622f3402e36c59e6164fac75',\n",
       "    'fullname': 'Mary',\n",
       "    'imgUrl': 'https://robohash.org/24517152?set=set1',\n",
       "    'id': '24517152'},\n",
       "   'txt': \"Stephen's place is neat, clean and as described.  Size is perfect for single traveller.  Stephen is very responsive.  Location is good with lots of restaurants around. Walking distance to MTR station is about 5 mins, very convenient. I enjoyed my stay very much at Stephen's place.\"},\n",
       "  {'at': '2017-03-10T05:00:00.000Z',\n",
       "   'by': {'_id': '622f3406e36c59e6164fbc7d',\n",
       "    'fullname': 'Frederic',\n",
       "    'imgUrl': 'https://robohash.org/51409355?set=set1',\n",
       "    'id': '51409355'},\n",
       "   'txt': 'Small, one person room (size makes it a single room) not really well sound isolated against the neigbours. Recently renovated so fresh bathroom, could be better with something that blocks out the light from the \"window\" if you are a person that have trouble sleeping if it\\'s to light in the room. '},\n",
       "  {'at': '2017-03-20T04:00:00.000Z',\n",
       "   'by': {'_id': '622f3406e36c59e6164fbb45',\n",
       "    'fullname': 'Henri',\n",
       "    'imgUrl': 'https://robohash.org/18239387?set=set1',\n",
       "    'id': '18239387'},\n",
       "   'txt': \"My stay in Hong Kong and at Stephen's flat went very smoothly and without any inconveniences. The flat is in a central location and easy to find as Stephen provided very good directions to the place with pictures and everything.\\n\\nThe room was as depicted in the pics and is suitable for 1 person to stay.\\n\\nThe room is tinier than I thought without any windows out. Another problem was that no cleaning supplies - not even a brush - was provided in the room. If you stay several days in the flat, as I did, it would be comfortable to clean and tidy up a bit every day.\"},\n",
       "  {'at': '2017-04-15T04:00:00.000Z',\n",
       "   'by': {'_id': '622f3407e36c59e6164fbd80',\n",
       "    'fullname': 'David',\n",
       "    'imgUrl': 'https://robohash.org/103075248?set=set1',\n",
       "    'id': '103075248'},\n",
       "   'txt': 'Great location and beautiful room! Had a great time there. Host is awesome!'},\n",
       "  {'at': '2017-05-15T04:00:00.000Z',\n",
       "   'by': {'_id': '622f3405e36c59e6164fb986',\n",
       "    'fullname': 'Wissem',\n",
       "    'imgUrl': 'https://robohash.org/8914363?set=set1',\n",
       "    'id': '8914363'},\n",
       "   'txt': \"Good budget room for HK, clean and convenient, but no outside window :) Late check-in was easy and smooth. It's a good deal, at this price it's hard to find better in Wan Chai. \"},\n",
       "  {'at': '2017-05-30T04:00:00.000Z',\n",
       "   'by': {'_id': '622f3402e36c59e6164fac75',\n",
       "    'fullname': 'Mary',\n",
       "    'imgUrl': 'https://robohash.org/24517152?set=set1',\n",
       "    'id': '24517152'},\n",
       "   'txt': \"This is my second stay at Stephen's.  It's as good as my last stay.\"},\n",
       "  {'at': '2017-07-26T04:00:00.000Z',\n",
       "   'by': {'_id': '622f3404e36c59e6164fb56c',\n",
       "    'fullname': 'Harry',\n",
       "    'imgUrl': 'https://robohash.org/133306000?set=set1',\n",
       "    'id': '133306000'},\n",
       "   'txt': \"The place was hard to find for me as the entrance is small and easy to miss. Nice cosy room that's in a central location. Desk and good wifi allowed me to work in the room. Fridge is useful for keeping food and drinks! And I like how there's food places just downstairs and everywhere around the building.\"},\n",
       "  {'at': '2017-08-06T04:00:00.000Z',\n",
       "   'by': {'_id': '622f3404e36c59e6164fb472',\n",
       "    'fullname': 'Paul',\n",
       "    'imgUrl': 'https://robohash.org/36329711?set=set1',\n",
       "    'id': '36329711'},\n",
       "   'txt': 'Great location in a reasonably modern building with a lift (which is a huge bonus having stayed on the 8th floor of a building without a lift last time I came to HK). Host was helpful and friendly and the room was clean with decent strength wifi, cold aircon and hot water.\\n\\nPlease note that facilities / amenities are minimal. There is a fridge, a kettle, and some bodywash/shampoo. You will need to supply your own towels plus cutlery and cups / glasses if you wish to eat or drink in the apartment (there are no cooking or laundry facilities either).\\n\\nAll in all, a good budget - if basic - place to stay in central Hong Kong.'},\n",
       "  {'at': '2017-08-26T04:00:00.000Z',\n",
       "   'by': {'_id': '622f3402e36c59e6164fad6e',\n",
       "    'fullname': 'Sebastian',\n",
       "    'imgUrl': 'https://robohash.org/129744799?set=set1',\n",
       "    'id': '129744799'},\n",
       "   'txt': 'It is a confortable room very well located!'},\n",
       "  {'at': '2017-10-31T04:00:00.000Z',\n",
       "   'by': {'_id': '622f3402e36c59e6164faedc',\n",
       "    'fullname': 'Otto',\n",
       "    'imgUrl': 'https://robohash.org/85903245?set=set1',\n",
       "    'id': '85903245'},\n",
       "   'txt': 'Excellent location and great host! Remember to bring your own towle to this place.'},\n",
       "  {'at': '2017-12-22T05:00:00.000Z',\n",
       "   'by': {'_id': '622f3402e36c59e6164fad94',\n",
       "    'fullname': 'Swee Lian',\n",
       "    'imgUrl': 'https://robohash.org/69880375?set=set1',\n",
       "    'id': '69880375'},\n",
       "   'txt': 'The location is good.  Neighbourhood full of eateries.  Room is bigger than some other airbnb place.  Bathroom is clean.  Lift is located at the ground floor.  Good value for money.'},\n",
       "  {'at': '2018-01-24T05:00:00.000Z',\n",
       "   'by': {'_id': '622f3407e36c59e6164fbf0d',\n",
       "    'fullname': 'Alex',\n",
       "    'imgUrl': 'https://robohash.org/3371828?set=set1',\n",
       "    'id': '3371828'},\n",
       "   'txt': 'Stephen was easy to reach via (Hidden by Airbnb) and the checkin instructions were very clear and easy to follow. The neighborhood and building feels very authentic and it is easy to walk to everything like restaurants/MTR/buses.\\n\\nThe room itself is very small and has no windows, so this is not a good place if you want to spend much time in your room. However, as a place to sleep and shower (plenty of hot water and good pressure) it was just fine. And at this price, you cannot expect more in HK.'},\n",
       "  {'at': '2018-03-29T04:00:00.000Z',\n",
       "   'by': {'_id': '622f3406e36c59e6164fb9ee',\n",
       "    'fullname': 'Jay',\n",
       "    'imgUrl': 'https://robohash.org/120557532?set=set1',\n",
       "    'id': '120557532'},\n",
       "   'txt': 'The apartment looks exactly like the photos. Clean and nice. All the amenities are working perfectly good (the wifi, fridge, water heater, aircon, kettle) Good and central location with many shops and eateries around, near the MTR station. Stephen is very friendly and responses promptly. Ideal place to stay for solo traveller, value for money too.'},\n",
       "  {'at': '2018-04-22T04:00:00.000Z',\n",
       "   'by': {'_id': '622f3406e36c59e6164fba07',\n",
       "    'fullname': 'Angela',\n",
       "    'imgUrl': 'https://robohash.org/111041672?set=set1',\n",
       "    'id': '111041672'},\n",
       "   'txt': 'Pros: Stephen was super responsive. I appreciate immensely that he contacted me several days before my arrival to arrange for key handover. The building is located in a very convenient spot -- eateries, transportation (7-min walk to closest MTR station, a few minutes away on foot from bus 5/5X that goes to Stanley Market or the 100-series buses on Wanchai Rd. that go to the Kowloon side using the tunnel and you\\'ll arrive at Hunghom where you can take the MTR and trains to NWT and China; tramway, and lots of taxis). Despite the various problems re: cleanliness, Stephen was quick to arrange for his maid to show up more than once. And as other guests noted, hard to find a place so conveniently located at this price.\\n\\nCons: I would remove the \"newly\" word from the property\\'s title of \"newly decorated apartment\". The cleaner obviously did a superficial job only--found dust and tissue bits below the bed and mouldy caulking around the bathroom sink. A working fridge was one of my must-have items, but was disappointed to find the fridge seal was extremely mouldy, including certain parts inside. I guess my biggest surprise is that this room is actually a room within an apartment which is subdivided into five rooms. There is no window as understood through other reviews and confirmation from Stephen, so won\\'t be suitable for those who are claustrophobic, and you\\'ll have to rely entirely on the air conditioning for fresh air. There is, however, a pseudo-window slot that is open to the corridor in the common area. Would have made the space much more homey if there were a small curtain covering this pseudo-window space since it is half-covered by a file folder and you can still see the dirty metal guard and the sheet of dirty plastic with a hole for the air cond. unit exhaust. I was much taken aback by this after seeing the more \"modern\" amenities, such as the cupboards and bathroom tiles. Another thing that bothered me was the absence of hooks for clothing, except for the three tiny adhesive hooks in the bathroom (but since the shower is in the same space as the toilet, one cannot use these tiny hooks for dry clothing anyways) and the bar on the glass door (but I didn\\'t want to hang too much on it since the bar is against a glass door). Hence, the only chair in the space is hijacked by my clothes. So if you plan to stay there more than a week, you might find it inconvenient. \\n\\nAll in all, if you don\\'t have a keen eye for cleanliness, you will like this place for its proximity to amenities and quick response from host.\\n\\nHint: If you arrive at the building by taxi, give the taxi driver the Wood Road address, but then you\\'ll have to walk to the Heard Street entrance to enter the building since the security code doesn\\'t work on the Wood Road entrance.'},\n",
       "  {'at': '2018-04-30T04:00:00.000Z',\n",
       "   'by': {'_id': '622f3403e36c59e6164fb2ab',\n",
       "    'fullname': 'Egan',\n",
       "    'imgUrl': 'https://robohash.org/4303794?set=set1',\n",
       "    'id': '4303794'},\n",
       "   'txt': 'Thanks Stephen for the stay, its been great.'},\n",
       "  {'at': '2018-05-07T04:00:00.000Z',\n",
       "   'by': {'_id': '622f3406e36c59e6164fbc9b',\n",
       "    'fullname': 'Elis',\n",
       "    'imgUrl': 'https://robohash.org/97748974?set=set1',\n",
       "    'id': '97748974'},\n",
       "   'txt': 'The location was good and there is convenient store located right below the apartment! Host was fast at reply, enjoyed my stay! Apartment was true to picture.'},\n",
       "  {'at': '2018-07-07T04:00:00.000Z',\n",
       "   'by': {'_id': '622f3404e36c59e6164fb591',\n",
       "    'fullname': 'Ryne',\n",
       "    'imgUrl': 'https://robohash.org/9638476?set=set1',\n",
       "    'id': '9638476'},\n",
       "   'txt': \"I've been did HK several times, this was my first time exploring the HK side instead of Kowloon. I'm glad I chose this place, it's walking distance to a lot of places, there's a bus or tram nearby to take you wherever. The neighbor's can get a little noisy, but they make sure to stop before bedtime, so if noise is a problem, just go out to a cafe or put on some headphones. I'd recommend this place.\"},\n",
       "  {'at': '2018-07-23T04:00:00.000Z',\n",
       "   'by': {'_id': '622f3405e36c59e6164fb71b',\n",
       "    'fullname': 'Sydney',\n",
       "    'imgUrl': 'https://robohash.org/41666984?set=set1',\n",
       "    'id': '41666984'},\n",
       "   'txt': 'very good location near bus stops. clean room. good sized room with enough space for a luggage.'},\n",
       "  {'at': '2018-08-16T04:00:00.000Z',\n",
       "   'by': {'_id': '622f3405e36c59e6164fb94d',\n",
       "    'fullname': 'David',\n",
       "    'imgUrl': 'https://robohash.org/128953502?set=set1',\n",
       "    'id': '128953502'},\n",
       "   'txt': 'Very nice room for a affordable price in Hong Kong!'},\n",
       "  {'at': '2018-08-29T04:00:00.000Z',\n",
       "   'by': {'_id': '622f3404e36c59e6164fb58c',\n",
       "    'fullname': 'Hiroyuki',\n",
       "    'imgUrl': 'https://robohash.org/144903536?set=set1',\n",
       "    'id': '144903536'},\n",
       "   'txt': 'cozy and enough hospitality.'}],\n",
       " 'likedByUsers': [],\n",
       " 'date': '2024-12-14T21:39:34.6570Z',\n",
       " 'labels': 'barns'}"
      ]
     },
     "execution_count": 37,
     "metadata": {},
     "output_type": "execute_result"
    }
   ],
   "source": [
    "labels_list = []\n",
    "for sample in new_data:\n",
    "    if \"labels\" not in sample.keys():\n",
    "        idx = np.random.randint(len(labels))\n",
    "        sample['labels'] = labels[idx]\n",
    "\n",
    "new_data[199]"
   ]
  },
  {
   "cell_type": "code",
   "execution_count": 38,
   "metadata": {},
   "outputs": [],
   "source": [
    "with open(\"./stay_database_with_region_dates_labels.json\", \"w\") as json_file:\n",
    "    json.dump(new_data, json_file, indent=4)"
   ]
  },
  {
   "cell_type": "code",
   "execution_count": null,
   "metadata": {},
   "outputs": [],
   "source": []
  }
 ],
 "metadata": {
  "kernelspec": {
   "display_name": "Python 3",
   "language": "python",
   "name": "python3"
  },
  "language_info": {
   "codemirror_mode": {
    "name": "ipython",
    "version": 3
   },
   "file_extension": ".py",
   "mimetype": "text/x-python",
   "name": "python",
   "nbconvert_exporter": "python",
   "pygments_lexer": "ipython3",
   "version": "3.7.3"
  }
 },
 "nbformat": 4,
 "nbformat_minor": 2
}
